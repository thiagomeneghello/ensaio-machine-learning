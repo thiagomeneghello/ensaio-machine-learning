{
 "cells": [
  {
   "cell_type": "markdown",
   "id": "d9b0b46b-f72b-43bf-aacb-ad015944a32a",
   "metadata": {},
   "source": [
    "# 0.0 Import Bibs"
   ]
  },
  {
   "cell_type": "code",
   "execution_count": 6,
   "id": "533ee159-69ce-4f03-b02f-9a1168d67b9b",
   "metadata": {},
   "outputs": [],
   "source": [
    "import pandas as pd\n",
    "import numpy as np\n",
    "from sklearn import cluster as ct\n",
    "from sklearn import metrics as mt\n",
    "from matplotlib import pyplot as plt\n",
    "\n",
    "import warnings\n",
    "warnings.filterwarnings(\"ignore\")"
   ]
  },
  {
   "cell_type": "markdown",
   "id": "85f6f1e7-f92b-4ed3-80af-b79b4619d6de",
   "metadata": {},
   "source": [
    "# 1.0 Load Data"
   ]
  },
  {
   "cell_type": "code",
   "execution_count": 2,
   "id": "a19b6e18-f9eb-4abf-9441-27d9e5d5c86d",
   "metadata": {},
   "outputs": [],
   "source": [
    "x_data = pd.read_csv('../datasets/cluster/X_dataset_clu.csv')"
   ]
  },
  {
   "cell_type": "code",
   "execution_count": 3,
   "id": "6ffd6725-8d5f-4faa-bdad-46fc6ae860b5",
   "metadata": {},
   "outputs": [
    {
     "data": {
      "text/html": [
       "<div>\n",
       "<style scoped>\n",
       "    .dataframe tbody tr th:only-of-type {\n",
       "        vertical-align: middle;\n",
       "    }\n",
       "\n",
       "    .dataframe tbody tr th {\n",
       "        vertical-align: top;\n",
       "    }\n",
       "\n",
       "    .dataframe thead th {\n",
       "        text-align: right;\n",
       "    }\n",
       "</style>\n",
       "<table border=\"1\" class=\"dataframe\">\n",
       "  <thead>\n",
       "    <tr style=\"text-align: right;\">\n",
       "      <th></th>\n",
       "      <th>alcohol</th>\n",
       "      <th>malic_acid</th>\n",
       "      <th>ash</th>\n",
       "      <th>ash_alcanity</th>\n",
       "      <th>magnesium</th>\n",
       "      <th>total_phenols</th>\n",
       "      <th>flavanoids</th>\n",
       "      <th>nonflavanoid_phenols</th>\n",
       "      <th>proanthocyanins</th>\n",
       "      <th>color_intensity</th>\n",
       "      <th>hue</th>\n",
       "      <th>od280</th>\n",
       "      <th>proline</th>\n",
       "    </tr>\n",
       "  </thead>\n",
       "  <tbody>\n",
       "    <tr>\n",
       "      <th>0</th>\n",
       "      <td>1.518613</td>\n",
       "      <td>0.191700</td>\n",
       "      <td>0.232053</td>\n",
       "      <td>-1.169593</td>\n",
       "      <td>1.913905</td>\n",
       "      <td>0.627586</td>\n",
       "      <td>0.573840</td>\n",
       "      <td>-0.659563</td>\n",
       "      <td>1.224884</td>\n",
       "      <td>0.251717</td>\n",
       "      <td>0.455285</td>\n",
       "      <td>0.970696</td>\n",
       "      <td>0.561341</td>\n",
       "    </tr>\n",
       "    <tr>\n",
       "      <th>1</th>\n",
       "      <td>0.246290</td>\n",
       "      <td>0.205534</td>\n",
       "      <td>-0.827996</td>\n",
       "      <td>-2.490847</td>\n",
       "      <td>0.018145</td>\n",
       "      <td>0.575862</td>\n",
       "      <td>0.510549</td>\n",
       "      <td>-0.820719</td>\n",
       "      <td>-0.544721</td>\n",
       "      <td>-0.293321</td>\n",
       "      <td>0.463415</td>\n",
       "      <td>0.780220</td>\n",
       "      <td>0.550642</td>\n",
       "    </tr>\n",
       "    <tr>\n",
       "      <th>2</th>\n",
       "      <td>0.196879</td>\n",
       "      <td>0.320158</td>\n",
       "      <td>1.109334</td>\n",
       "      <td>-0.268738</td>\n",
       "      <td>0.088358</td>\n",
       "      <td>0.627586</td>\n",
       "      <td>0.611814</td>\n",
       "      <td>-0.498407</td>\n",
       "      <td>2.135968</td>\n",
       "      <td>0.269020</td>\n",
       "      <td>0.447154</td>\n",
       "      <td>0.695971</td>\n",
       "      <td>0.646933</td>\n",
       "    </tr>\n",
       "    <tr>\n",
       "      <th>3</th>\n",
       "      <td>1.691550</td>\n",
       "      <td>0.239130</td>\n",
       "      <td>0.487926</td>\n",
       "      <td>-0.809251</td>\n",
       "      <td>0.930918</td>\n",
       "      <td>0.989655</td>\n",
       "      <td>0.664557</td>\n",
       "      <td>-0.981875</td>\n",
       "      <td>1.032155</td>\n",
       "      <td>1.186068</td>\n",
       "      <td>0.308943</td>\n",
       "      <td>0.798535</td>\n",
       "      <td>0.857347</td>\n",
       "    </tr>\n",
       "    <tr>\n",
       "      <th>4</th>\n",
       "      <td>0.295700</td>\n",
       "      <td>0.365613</td>\n",
       "      <td>1.840403</td>\n",
       "      <td>0.451946</td>\n",
       "      <td>1.281985</td>\n",
       "      <td>0.627586</td>\n",
       "      <td>0.495781</td>\n",
       "      <td>0.226796</td>\n",
       "      <td>0.401404</td>\n",
       "      <td>-0.319276</td>\n",
       "      <td>0.455285</td>\n",
       "      <td>0.608059</td>\n",
       "      <td>0.325963</td>\n",
       "    </tr>\n",
       "  </tbody>\n",
       "</table>\n",
       "</div>"
      ],
      "text/plain": [
       "    alcohol  malic_acid       ash  ash_alcanity  magnesium  total_phenols  \\\n",
       "0  1.518613    0.191700  0.232053     -1.169593   1.913905       0.627586   \n",
       "1  0.246290    0.205534 -0.827996     -2.490847   0.018145       0.575862   \n",
       "2  0.196879    0.320158  1.109334     -0.268738   0.088358       0.627586   \n",
       "3  1.691550    0.239130  0.487926     -0.809251   0.930918       0.989655   \n",
       "4  0.295700    0.365613  1.840403      0.451946   1.281985       0.627586   \n",
       "\n",
       "   flavanoids  nonflavanoid_phenols  proanthocyanins  color_intensity  \\\n",
       "0    0.573840             -0.659563         1.224884         0.251717   \n",
       "1    0.510549             -0.820719        -0.544721        -0.293321   \n",
       "2    0.611814             -0.498407         2.135968         0.269020   \n",
       "3    0.664557             -0.981875         1.032155         1.186068   \n",
       "4    0.495781              0.226796         0.401404        -0.319276   \n",
       "\n",
       "        hue     od280   proline  \n",
       "0  0.455285  0.970696  0.561341  \n",
       "1  0.463415  0.780220  0.550642  \n",
       "2  0.447154  0.695971  0.646933  \n",
       "3  0.308943  0.798535  0.857347  \n",
       "4  0.455285  0.608059  0.325963  "
      ]
     },
     "execution_count": 3,
     "metadata": {},
     "output_type": "execute_result"
    }
   ],
   "source": [
    "x_data.head()"
   ]
  },
  {
   "cell_type": "markdown",
   "id": "8c68a37a-f494-4ebc-b430-172ec29e8a54",
   "metadata": {},
   "source": [
    "# 2.0 Defs"
   ]
  },
  {
   "cell_type": "code",
   "execution_count": 7,
   "id": "0823fa7b-5cc7-4205-8ba0-d19fa784be2e",
   "metadata": {},
   "outputs": [],
   "source": [
    "def s_score(x, modelo):\n",
    "    ss_avg = mt.silhouette_score(x, modelo)\n",
    "    return ss_avg"
   ]
  },
  {
   "cell_type": "markdown",
   "id": "00613499-c1d0-4009-9acf-0387882a212f",
   "metadata": {},
   "source": [
    "# 3.0 Ensaio Machine Learning"
   ]
  },
  {
   "cell_type": "markdown",
   "id": "c9122a37-48dc-47f3-82e4-8ac804cfb2e7",
   "metadata": {},
   "source": [
    "## 1) K-Means"
   ]
  },
  {
   "cell_type": "code",
   "execution_count": 8,
   "id": "72f3a83a-e53d-4b48-ac9c-7e12fcba5c84",
   "metadata": {},
   "outputs": [],
   "source": [
    "def k_means(k, x):\n",
    "    kmeans = ct.KMeans(n_clusters=k, random_state=42)\n",
    "    label = kmeans.fit_predict(x)\n",
    "    return label"
   ]
  },
  {
   "cell_type": "code",
   "execution_count": 9,
   "id": "a94e8778-ec95-4b0f-bc89-7b356a68bd00",
   "metadata": {},
   "outputs": [],
   "source": [
    "k = np.arange(2, 21, 1)\n",
    "ss_list = []\n",
    "wcss_list =[]\n",
    "for i in range(len(k)):\n",
    "    labels = k_means(k[i], x_data)\n",
    "    silhouette_score = s_score(x_data, labels)\n",
    "    ss_list.append(silhouette_score)\n",
    "    k_ = ct.KMeans(n_clusters=k[i], random_state=42)\n",
    "    wc_label = k_.fit(x_data)\n",
    "    wcss_list.append(wc_label.inertia_)"
   ]
  },
  {
   "cell_type": "code",
   "execution_count": 10,
   "id": "d2905cb7-38ea-401c-aad0-0410b41bf135",
   "metadata": {},
   "outputs": [
    {
     "data": {
      "text/plain": [
       "Text(0.5, 1.0, 'Valor de Silhouette Score por n cluster')"
      ]
     },
     "execution_count": 10,
     "metadata": {},
     "output_type": "execute_result"
    },
    {
     "data": {
      "image/png": "[encoded data removed]",
      "text/plain": [
       "<Figure size 640x480 with 1 Axes>"
      ]
     },
     "metadata": {},
     "output_type": "display_data"
    }
   ],
   "source": [
    "plt.plot(k, ss_list, 'ro--')\n",
    "plt.xlabel('N_Cluster')\n",
    "plt.ylabel('Silhouette_Score')\n",
    "plt.title('Valor de Silhouette Score por n cluster')\n",
    "        "
   ]
  },
  {
   "cell_type": "code",
   "execution_count": 11,
   "id": "3584152e-07e0-458b-b629-f91b816e78aa",
   "metadata": {},
   "outputs": [
    {
     "data": {
      "text/plain": [
       "[0.213219480988304,\n",
       " 0.23295918228054466,\n",
       " 0.2303056525569282,\n",
       " 0.18676549238556106,\n",
       " 0.2236781175930215,\n",
       " 0.1922717886677309,\n",
       " 0.17509760540307095,\n",
       " 0.17435725027940244,\n",
       " 0.17455018419981466,\n",
       " 0.18492782808187294,\n",
       " 0.1678550901238871,\n",
       " 0.1750107111228629,\n",
       " 0.1520335196094671,\n",
       " 0.18304192769888333,\n",
       " 0.17086294152591353,\n",
       " 0.15783356257199033,\n",
       " 0.1766856766384127,\n",
       " 0.16204115424933027,\n",
       " 0.1630471508275129]"
      ]
     },
     "execution_count": 11,
     "metadata": {},
     "output_type": "execute_result"
    }
   ],
   "source": [
    "ss_list"
   ]
  },
  {
   "cell_type": "code",
   "execution_count": 12,
   "id": "c79f9eb5-d9b5-4aab-a354-91be9ac724c3",
   "metadata": {},
   "outputs": [
    {
     "data": {
      "text/plain": [
       "3"
      ]
     },
     "execution_count": 12,
     "metadata": {},
     "output_type": "execute_result"
    }
   ],
   "source": [
    "best_ss = ss_list.index(max(ss_list))\n",
    "max_cluster = k[best_ss]\n",
    "max_cluster"
   ]
  },
  {
   "cell_type": "code",
   "execution_count": 28,
   "id": "1202aa4f-81d5-4979-bd4b-e90221eac35b",
   "metadata": {},
   "outputs": [
    {
     "data": {
      "text/plain": [
       "0.12985791361298216"
      ]
     },
     "execution_count": 28,
     "metadata": {},
     "output_type": "execute_result"
    }
   ],
   "source": [
    "max_ss = ss_list[best_ss]\n",
    "max_ss"
   ]
  },
  {
   "cell_type": "code",
   "execution_count": 16,
   "id": "8991c663-e426-47f1-abc0-afacffc37ac8",
   "metadata": {},
   "outputs": [
    {
     "data": {
      "text/plain": [
       "Text(0.5, 1.0, 'Valor de Inércia por n cluster')"
      ]
     },
     "execution_count": 16,
     "metadata": {},
     "output_type": "execute_result"
    },
    {
     "data": {
      "image/png": "[encoded data removed]",
      "text/plain": [
       "<Figure size 640x480 with 1 Axes>"
      ]
     },
     "metadata": {},
     "output_type": "display_data"
    }
   ],
   "source": [
    "plt.plot(k, wcss_list, 'bo--')\n",
    "plt.xlabel('N_Cluster')\n",
    "plt.ylabel('Inertia')\n",
    "plt.title('Valor de Inércia por n cluster')"
   ]
  },
  {
   "cell_type": "code",
   "execution_count": 17,
   "id": "b5bb07b8-6f17-4d81-997b-3ac99cc86367",
   "metadata": {},
   "outputs": [
    {
     "data": {
      "text/plain": [
       "[1017.8331070382167,\n",
       " 829.0437911526398,\n",
       " 750.8929680082839,\n",
       " 681.8700839314022,\n",
       " 624.2569149820317,\n",
       " 581.1729872270377,\n",
       " 535.9756168443398,\n",
       " 511.06314292148164,\n",
       " 477.3902387463819,\n",
       " 464.3485353700595,\n",
       " 443.8952673864428,\n",
       " 434.9410918196942,\n",
       " 412.2689286473501,\n",
       " 396.2235787625839,\n",
       " 389.34169958109055,\n",
       " 379.60221634469906,\n",
       " 355.26533460819036,\n",
       " 350.5807322672148,\n",
       " 345.29755306174263]"
      ]
     },
     "execution_count": 17,
     "metadata": {},
     "output_type": "execute_result"
    }
   ],
   "source": [
    "wcss_list"
   ]
  },
  {
   "cell_type": "code",
   "execution_count": 46,
   "id": "f961d9d9-ea81-4e48-b75b-06da252aaa54",
   "metadata": {},
   "outputs": [
    {
     "data": {
      "text/html": [
       "<div>\n",
       "<style scoped>\n",
       "    .dataframe tbody tr th:only-of-type {\n",
       "        vertical-align: middle;\n",
       "    }\n",
       "\n",
       "    .dataframe tbody tr th {\n",
       "        vertical-align: top;\n",
       "    }\n",
       "\n",
       "    .dataframe thead th {\n",
       "        text-align: right;\n",
       "    }\n",
       "</style>\n",
       "<table border=\"1\" class=\"dataframe\">\n",
       "  <thead>\n",
       "    <tr style=\"text-align: right;\">\n",
       "      <th></th>\n",
       "      <th>Algoritmo</th>\n",
       "      <th>Clusters</th>\n",
       "      <th>Silhouette_Score</th>\n",
       "    </tr>\n",
       "  </thead>\n",
       "  <tbody>\n",
       "    <tr>\n",
       "      <th>0</th>\n",
       "      <td>K_Means</td>\n",
       "      <td>3</td>\n",
       "      <td>0.2329</td>\n",
       "    </tr>\n",
       "  </tbody>\n",
       "</table>\n",
       "</div>"
      ],
      "text/plain": [
       "  Algoritmo  Clusters  Silhouette_Score\n",
       "0   K_Means         3            0.2329"
      ]
     },
     "execution_count": 46,
     "metadata": {},
     "output_type": "execute_result"
    }
   ],
   "source": [
    "kmeans_tabela = pd.DataFrame({'Algoritmo': ['K_Means'],\n",
    "                              'Clusters': [3],\n",
    "                              'Silhouette_Score': [0.2329]})\n",
    "kmeans_tabela"
   ]
  },
  {
   "cell_type": "markdown",
   "id": "4a792210-4cbe-4df2-b8e0-23e47795a6a2",
   "metadata": {},
   "source": [
    "## 2)  Affinity Propagation"
   ]
  },
  {
   "cell_type": "code",
   "execution_count": 18,
   "id": "9a276a0a-0c2d-473b-867d-d335ce386aea",
   "metadata": {},
   "outputs": [],
   "source": [
    "def affinity_propagation(p, x):\n",
    "    model = ct.AffinityPropagation(preference = p)\n",
    "    model.fit(x)\n",
    "    label = model.predict(x)\n",
    "    return label"
   ]
  },
  {
   "cell_type": "code",
   "execution_count": 19,
   "id": "3546bd5b-067f-4e2c-8703-25c217a2f86f",
   "metadata": {},
   "outputs": [],
   "source": [
    "p = np.arange(-1,-61, -1)\n",
    "ss_list = []\n",
    "n_cluster =[]\n",
    "for i in range(len(p)):\n",
    "    labels = affinity_propagation(p[i], x_data)\n",
    "    n_cluster.append(labels)\n",
    "    ss = s_score(x_data, labels)\n",
    "    ss_list.append(ss)"
   ]
  },
  {
   "cell_type": "code",
   "execution_count": 20,
   "id": "e340b1c2-8e67-4b8e-b072-1f5c39d6ea09",
   "metadata": {},
   "outputs": [
    {
     "data": {
      "text/plain": [
       "Text(0.5, 1.0, 'Valor de Silhouette Score por n cluster')"
      ]
     },
     "execution_count": 20,
     "metadata": {},
     "output_type": "execute_result"
    },
    {
     "data": {
      "image/png": "[encoded data removed]",
      "text/plain": [
       "<Figure size 640x480 with 1 Axes>"
      ]
     },
     "metadata": {},
     "output_type": "display_data"
    }
   ],
   "source": [
    "plt.plot(p, ss_list, 'ro--')\n",
    "plt.xlabel('Preference')\n",
    "plt.ylabel('Silhouette_Score')\n",
    "plt.title('Valor de Silhouette Score por n cluster')"
   ]
  },
  {
   "cell_type": "code",
   "execution_count": 23,
   "id": "e007274c-9221-4123-b146-2fa5f27a3cba",
   "metadata": {},
   "outputs": [
    {
     "data": {
      "text/plain": [
       "-47"
      ]
     },
     "execution_count": 23,
     "metadata": {},
     "output_type": "execute_result"
    }
   ],
   "source": [
    "ss_best = ss_list.index(max(ss_list))\n",
    "p_best = p[ss_best]\n",
    "p_best"
   ]
  },
  {
   "cell_type": "code",
   "execution_count": 49,
   "id": "9835269e-c063-4bdb-a202-e928c1217b34",
   "metadata": {},
   "outputs": [
    {
     "data": {
      "text/plain": [
       "0.20365750456597356"
      ]
     },
     "execution_count": 49,
     "metadata": {},
     "output_type": "execute_result"
    }
   ],
   "source": [
    "best_ss = ss_list[ss_best]\n",
    "best_ss"
   ]
  },
  {
   "cell_type": "code",
   "execution_count": 56,
   "id": "b5bf94b1-6b75-4ffc-9be1-2befc41bed0f",
   "metadata": {},
   "outputs": [
    {
     "data": {
      "text/plain": [
       "array([1, 4, 0, 1, 0, 1, 1, 1, 1, 1, 1, 1, 1, 1, 1, 1, 0, 0, 1, 1, 1, 0,\n",
       "       1, 6, 0, 0, 6, 4, 0, 1, 0, 1, 1, 0, 0, 1, 0, 6, 4, 1, 1, 4, 1, 6,\n",
       "       1, 1, 1, 1, 1, 1, 1, 1, 1, 1, 1, 1, 1, 1, 1, 4, 6, 6, 4, 4, 6, 3,\n",
       "       4, 4, 6, 2, 6, 0, 4, 0, 4, 4, 4, 6, 2, 3, 4, 4, 3, 3, 3, 4, 3, 3,\n",
       "       3, 3, 3, 3, 3, 4, 4, 2, 0, 4, 4, 3, 4, 4, 3, 4, 4, 3, 4, 3, 4, 3,\n",
       "       2, 4, 3, 3, 3, 3, 4, 4, 4, 4, 3, 0, 3, 4, 3, 3, 3, 3, 3, 3, 6, 6,\n",
       "       6, 6, 3, 5, 3, 3, 5, 6, 6, 6, 6, 6, 6, 6, 6, 5, 5, 5, 0, 5, 0, 5,\n",
       "       5, 5, 5, 5, 5, 5, 5, 6, 6, 6, 5, 5, 5, 5, 5, 0, 6, 5, 5, 5, 5, 5,\n",
       "       5, 5])"
      ]
     },
     "execution_count": 56,
     "metadata": {},
     "output_type": "execute_result"
    }
   ],
   "source": [
    "best_cl = n_cluster[ss_best]\n",
    "best_cl"
   ]
  },
  {
   "cell_type": "code",
   "execution_count": 57,
   "id": "acc05f6b-a92a-4207-871a-e4420addff54",
   "metadata": {},
   "outputs": [
    {
     "data": {
      "text/plain": [
       "7"
      ]
     },
     "execution_count": 57,
     "metadata": {},
     "output_type": "execute_result"
    }
   ],
   "source": [
    "qtd_cluster = len(set(best_cl))\n",
    "qtd_cluster"
   ]
  },
  {
   "cell_type": "code",
   "execution_count": 58,
   "id": "2fd77aa7-dcb9-49b5-89a4-4c182db2ae51",
   "metadata": {},
   "outputs": [
    {
     "data": {
      "text/html": [
       "<div>\n",
       "<style scoped>\n",
       "    .dataframe tbody tr th:only-of-type {\n",
       "        vertical-align: middle;\n",
       "    }\n",
       "\n",
       "    .dataframe tbody tr th {\n",
       "        vertical-align: top;\n",
       "    }\n",
       "\n",
       "    .dataframe thead th {\n",
       "        text-align: right;\n",
       "    }\n",
       "</style>\n",
       "<table border=\"1\" class=\"dataframe\">\n",
       "  <thead>\n",
       "    <tr style=\"text-align: right;\">\n",
       "      <th></th>\n",
       "      <th>Algoritmo</th>\n",
       "      <th>Preference</th>\n",
       "      <th>Clusters</th>\n",
       "      <th>Silhouette_Score</th>\n",
       "    </tr>\n",
       "  </thead>\n",
       "  <tbody>\n",
       "    <tr>\n",
       "      <th>0</th>\n",
       "      <td>Affinity_Propagation</td>\n",
       "      <td>-47</td>\n",
       "      <td>7</td>\n",
       "      <td>0.203658</td>\n",
       "    </tr>\n",
       "  </tbody>\n",
       "</table>\n",
       "</div>"
      ],
      "text/plain": [
       "              Algoritmo  Preference  Clusters  Silhouette_Score\n",
       "0  Affinity_Propagation         -47         7          0.203658"
      ]
     },
     "execution_count": 58,
     "metadata": {},
     "output_type": "execute_result"
    }
   ],
   "source": [
    "aff_prop_tabela = pd.DataFrame({'Algoritmo': ['Affinity_Propagation'],\n",
    "                                'Preference': [p_best],\n",
    "                                'Clusters': [qtd_cluster],\n",
    "                                'Silhouette_Score': [best_ss]})\n",
    "aff_prop_tabela"
   ]
  },
  {
   "cell_type": "code",
   "execution_count": 53,
   "id": "df2254c3-a1b6-43c8-b111-7d496efe2eed",
   "metadata": {},
   "outputs": [
    {
     "data": {
      "text/plain": [
       "{0, 1, 2, 3, 4, 5, 6}"
      ]
     },
     "execution_count": 53,
     "metadata": {},
     "output_type": "execute_result"
    }
   ],
   "source": [
    "set(n_cluster[46])"
   ]
  }
 ],
 "metadata": {
  "kernelspec": {
   "display_name": "Python 3 (ipykernel)",
   "language": "python",
   "name": "python3"
  },
  "language_info": {
   "codemirror_mode": {
    "name": "ipython",
    "version": 3
   },
   "file_extension": ".py",
   "mimetype": "text/x-python",
   "name": "python",
   "nbconvert_exporter": "python",
   "pygments_lexer": "ipython3",
   "version": "3.9.18"
  }
 },
 "nbformat": 4,
 "nbformat_minor": 5
}
