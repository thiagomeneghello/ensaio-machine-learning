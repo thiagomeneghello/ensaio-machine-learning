{
 "cells": [
  {
   "cell_type": "markdown",
   "id": "40636536-2cd4-483e-bec0-1f680e318cb7",
   "metadata": {},
   "source": [
    "# 0.0 Import Bibs"
   ]
  },
  {
   "cell_type": "code",
   "execution_count": 2,
   "id": "eb6f6fbc-e92c-4859-a0de-5f6bbf12d669",
   "metadata": {},
   "outputs": [],
   "source": [
    "import pandas as pd\n",
    "import numpy as np\n",
    "from sklearn import neighbors as nb\n",
    "from sklearn import linear_model as lm\n",
    "from sklearn import metrics as mt\n",
    "from sklearn import tree as tr\n",
    "from sklearn import model_selection as ms\n",
    "from imblearn.under_sampling import NearMiss\n",
    "from imblearn.under_sampling import RandomUnderSampler\n",
    "from imblearn.over_sampling import SMOTE\n",
    "from imblearn.over_sampling import RandomOverSampler\n",
    "from sklearn import cluster as ct\n",
    "from sklearn import datasets as ds\n",
    "from sklearn import ensemble as en\n",
    "from matplotlib import pyplot as plt\n",
    "import cv2\n",
    "\n",
    "import warnings\n",
    "warnings.filterwarnings(\"ignore\")"
   ]
  },
  {
   "cell_type": "markdown",
   "id": "e56159ce-515c-45fc-a792-9740d1eb7c01",
   "metadata": {},
   "source": [
    "# 1.0 Load Datasets"
   ]
  },
  {
   "cell_type": "code",
   "execution_count": 3,
   "id": "9ddb96ab-d3d7-4ac6-ac4e-b8f9832323e4",
   "metadata": {},
   "outputs": [],
   "source": [
    "x_train = pd.read_csv('../datasets/regression/X_training_reg.csv')\n",
    "y_train = pd.read_csv('../datasets/regression/y_training_reg.csv')\n",
    "x_val = pd.read_csv('../datasets/regression/X_validation_reg.csv')\n",
    "y_val = pd.read_csv('../datasets/regression/y_val_reg.csv')\n",
    "x_test = pd.read_csv('../datasets/regression/X_test_reg.csv')\n",
    "y_test = pd.read_csv('../datasets/regression/y_test_reg.csv')"
   ]
  },
  {
   "cell_type": "code",
   "execution_count": 4,
   "id": "f93dcab4-f66a-44b1-a5e1-07461263a99c",
   "metadata": {},
   "outputs": [
    {
     "data": {
      "text/html": [
       "<div>\n",
       "<style scoped>\n",
       "    .dataframe tbody tr th:only-of-type {\n",
       "        vertical-align: middle;\n",
       "    }\n",
       "\n",
       "    .dataframe tbody tr th {\n",
       "        vertical-align: top;\n",
       "    }\n",
       "\n",
       "    .dataframe thead th {\n",
       "        text-align: right;\n",
       "    }\n",
       "</style>\n",
       "<table border=\"1\" class=\"dataframe\">\n",
       "  <thead>\n",
       "    <tr style=\"text-align: right;\">\n",
       "      <th></th>\n",
       "      <th>song_duration_ms</th>\n",
       "      <th>acousticness</th>\n",
       "      <th>danceability</th>\n",
       "      <th>energy</th>\n",
       "      <th>instrumentalness</th>\n",
       "      <th>key</th>\n",
       "      <th>liveness</th>\n",
       "      <th>loudness</th>\n",
       "      <th>audio_mode</th>\n",
       "      <th>speechiness</th>\n",
       "      <th>tempo</th>\n",
       "      <th>time_signature</th>\n",
       "      <th>audio_valence</th>\n",
       "    </tr>\n",
       "  </thead>\n",
       "  <tbody>\n",
       "    <tr>\n",
       "      <th>0</th>\n",
       "      <td>0.205673</td>\n",
       "      <td>0.092100</td>\n",
       "      <td>0.720</td>\n",
       "      <td>0.802</td>\n",
       "      <td>0.000000</td>\n",
       "      <td>0.090909</td>\n",
       "      <td>0.694</td>\n",
       "      <td>0.431778</td>\n",
       "      <td>1</td>\n",
       "      <td>0.0582</td>\n",
       "      <td>0.103876</td>\n",
       "      <td>0.8</td>\n",
       "      <td>0.723</td>\n",
       "    </tr>\n",
       "    <tr>\n",
       "      <th>1</th>\n",
       "      <td>-0.240409</td>\n",
       "      <td>0.737000</td>\n",
       "      <td>0.483</td>\n",
       "      <td>0.412</td>\n",
       "      <td>0.000000</td>\n",
       "      <td>0.636364</td>\n",
       "      <td>0.116</td>\n",
       "      <td>-0.262732</td>\n",
       "      <td>1</td>\n",
       "      <td>0.0402</td>\n",
       "      <td>1.711532</td>\n",
       "      <td>0.6</td>\n",
       "      <td>0.247</td>\n",
       "    </tr>\n",
       "    <tr>\n",
       "      <th>2</th>\n",
       "      <td>-0.125770</td>\n",
       "      <td>0.274000</td>\n",
       "      <td>0.671</td>\n",
       "      <td>0.565</td>\n",
       "      <td>0.000065</td>\n",
       "      <td>1.000000</td>\n",
       "      <td>0.370</td>\n",
       "      <td>0.013612</td>\n",
       "      <td>0</td>\n",
       "      <td>0.1600</td>\n",
       "      <td>1.009176</td>\n",
       "      <td>0.8</td>\n",
       "      <td>0.561</td>\n",
       "    </tr>\n",
       "    <tr>\n",
       "      <th>3</th>\n",
       "      <td>-0.580967</td>\n",
       "      <td>0.002340</td>\n",
       "      <td>0.704</td>\n",
       "      <td>0.529</td>\n",
       "      <td>0.874000</td>\n",
       "      <td>1.000000</td>\n",
       "      <td>0.370</td>\n",
       "      <td>-0.266382</td>\n",
       "      <td>0</td>\n",
       "      <td>0.0416</td>\n",
       "      <td>0.666173</td>\n",
       "      <td>0.8</td>\n",
       "      <td>0.507</td>\n",
       "    </tr>\n",
       "    <tr>\n",
       "      <th>4</th>\n",
       "      <td>-0.688566</td>\n",
       "      <td>0.000414</td>\n",
       "      <td>0.354</td>\n",
       "      <td>0.910</td>\n",
       "      <td>0.205000</td>\n",
       "      <td>0.090909</td>\n",
       "      <td>0.456</td>\n",
       "      <td>0.422914</td>\n",
       "      <td>1</td>\n",
       "      <td>0.0430</td>\n",
       "      <td>1.182630</td>\n",
       "      <td>0.8</td>\n",
       "      <td>0.362</td>\n",
       "    </tr>\n",
       "  </tbody>\n",
       "</table>\n",
       "</div>"
      ],
      "text/plain": [
       "   song_duration_ms  acousticness  danceability  energy  instrumentalness  \\\n",
       "0          0.205673      0.092100         0.720   0.802          0.000000   \n",
       "1         -0.240409      0.737000         0.483   0.412          0.000000   \n",
       "2         -0.125770      0.274000         0.671   0.565          0.000065   \n",
       "3         -0.580967      0.002340         0.704   0.529          0.874000   \n",
       "4         -0.688566      0.000414         0.354   0.910          0.205000   \n",
       "\n",
       "        key  liveness  loudness  audio_mode  speechiness     tempo  \\\n",
       "0  0.090909     0.694  0.431778           1       0.0582  0.103876   \n",
       "1  0.636364     0.116 -0.262732           1       0.0402  1.711532   \n",
       "2  1.000000     0.370  0.013612           0       0.1600  1.009176   \n",
       "3  1.000000     0.370 -0.266382           0       0.0416  0.666173   \n",
       "4  0.090909     0.456  0.422914           1       0.0430  1.182630   \n",
       "\n",
       "   time_signature  audio_valence  \n",
       "0             0.8          0.723  \n",
       "1             0.6          0.247  \n",
       "2             0.8          0.561  \n",
       "3             0.8          0.507  \n",
       "4             0.8          0.362  "
      ]
     },
     "execution_count": 4,
     "metadata": {},
     "output_type": "execute_result"
    }
   ],
   "source": [
    "x_train.head()"
   ]
  },
  {
   "cell_type": "markdown",
   "id": "f79b2cb4-9d53-42eb-b6dc-84be5669e1d0",
   "metadata": {},
   "source": [
    "# 2.0 Defs"
   ]
  },
  {
   "cell_type": "code",
   "execution_count": 7,
   "id": "3aa30d22-c5f0-46ea-b73e-79f93b5da5d9",
   "metadata": {},
   "outputs": [],
   "source": [
    "# metrics = R2, MSE, RMSE, MAE, MAPE\n",
    "def r2_score(y_test, yhat):\n",
    "    r2 = mt.r2_score(y_test, yhat)\n",
    "    return r2\n",
    "\n",
    "def mse(y_test, yhat):\n",
    "    mse = mt.mean_squared_error(y_test, yhat)\n",
    "    return mse\n",
    "\n",
    "def rmse(y_test, yhat):\n",
    "    rmse = np.sqrt(mt.mean_squared_error(y_test, yhat))\n",
    "    return rmse\n",
    "\n",
    "def mae(y_test, yhat):\n",
    "    mae = mt.mean_absolute_error(y_test, yhat)\n",
    "    return mae\n",
    "\n",
    "def mape(y_test, yhat):\n",
    "    mape = mt.mean_absolute_percentage_error(y_test, yhat)\n",
    "    return mape"
   ]
  },
  {
   "cell_type": "code",
   "execution_count": 18,
   "id": "5a9b2546-2ab6-4e58-b571-40f46c659331",
   "metadata": {},
   "outputs": [],
   "source": [
    "def tabela (algoritmo, parametro1, n, parametro2, n2, r2_train, r2_val, r2_test, mse_train, mse_val, mse_test,\n",
    "            rmse_train, rmse_val, rmse_test, mae_train, mae_val, mae_test, mape_train, mape_val, mape_test):\n",
    "    df = pd.DataFrame({algoritmo:['dataset train', 'dataset validation', 'dataset test'],\n",
    "                       parametro1:[n, n, n],\n",
    "                       parametro2: [n2, n2, n2],\n",
    "                       'R2_Score': [r2_train, r2_val, r2_test],\n",
    "                       'MSE': [mse_train, mse_val, mse_test],\n",
    "                       'RMSE': [rmse_train, rmse_val, rmse_test],\n",
    "                       'MAE': [mae_train, mae_val, mae_test],\n",
    "                       'MAPE': [mape_train, mape_val, mape_test]})\n",
    "    return df"
   ]
  },
  {
   "cell_type": "code",
   "execution_count": null,
   "id": "9cda2707-3ea5-4198-9aa5-3fc1bd7adaf8",
   "metadata": {},
   "outputs": [],
   "source": []
  },
  {
   "cell_type": "markdown",
   "id": "b7fcf730-90a6-4ca6-9cbe-7519fe146650",
   "metadata": {},
   "source": [
    "# 3.0 Ensaio Machine Learnig"
   ]
  },
  {
   "cell_type": "markdown",
   "id": "c14a1f35-0d9c-43f5-a907-f5b21d236807",
   "metadata": {},
   "source": [
    "### 1) Linear Regression"
   ]
  },
  {
   "cell_type": "code",
   "execution_count": 6,
   "id": "82f7b8b1-b67a-4363-b0c0-6dcae6ae5a99",
   "metadata": {},
   "outputs": [],
   "source": [
    "def linear_regression(x_train, y_train, x_test):\n",
    "    model = lm.LinearRegression()\n",
    "    model.fit(x_train, y_train)\n",
    "    yhat = model.predict(x_test)\n",
    "    return yhat"
   ]
  },
  {
   "cell_type": "code",
   "execution_count": 9,
   "id": "247cf71d-5beb-4142-8503-459f86b6372a",
   "metadata": {},
   "outputs": [],
   "source": [
    "yhat_train = linear_regression(x_train, y_train, x_train)\n",
    "yhat_val = linear_regression(x_train, y_train, x_val)\n",
    "yhat_test = linear_regression(pd.concat([x_train, x_val]), pd.concat([y_train, y_val]), x_test)"
   ]
  },
  {
   "cell_type": "code",
   "execution_count": 15,
   "id": "a84b3a40-4f20-47fc-b72c-dc0453f22d69",
   "metadata": {},
   "outputs": [],
   "source": [
    "r2_train = r2_score(y_train, yhat_train)\n",
    "r2_val = r2_score(y_val, yhat_val)\n",
    "r2_test = r2_score(y_test, yhat_test)\n",
    "mse_train = mse(y_train, yhat_train)\n",
    "mse_val = mse(y_val, yhat_val)\n",
    "mse_test = mse(y_test, yhat_test)\n",
    "rmse_train = rmse(y_train, yhat_train)\n",
    "rmse_val = rmse(y_val, yhat_val)\n",
    "rmse_test = rmse(y_test, yhat_test)\n",
    "mae_train = mae(y_train, yhat_train)\n",
    "mae_val = mae(y_val, yhat_val)\n",
    "mae_test = mae(y_test, yhat_test)\n",
    "mape_train = mape(y_train, yhat_train)\n",
    "mape_val = mape(y_val, yhat_val)\n",
    "mape_test = mape(y_test, yhat_test)"
   ]
  },
  {
   "cell_type": "code",
   "execution_count": 21,
   "id": "2d97b0c2-25d4-4c7a-b4b5-99e5f5245aff",
   "metadata": {},
   "outputs": [
    {
     "data": {
      "text/html": [
       "<div>\n",
       "<style scoped>\n",
       "    .dataframe tbody tr th:only-of-type {\n",
       "        vertical-align: middle;\n",
       "    }\n",
       "\n",
       "    .dataframe tbody tr th {\n",
       "        vertical-align: top;\n",
       "    }\n",
       "\n",
       "    .dataframe thead th {\n",
       "        text-align: right;\n",
       "    }\n",
       "</style>\n",
       "<table border=\"1\" class=\"dataframe\">\n",
       "  <thead>\n",
       "    <tr style=\"text-align: right;\">\n",
       "      <th></th>\n",
       "      <th>Linear_Regression</th>\n",
       "      <th>-</th>\n",
       "      <th>R2_Score</th>\n",
       "      <th>MSE</th>\n",
       "      <th>RMSE</th>\n",
       "      <th>MAE</th>\n",
       "      <th>MAPE</th>\n",
       "    </tr>\n",
       "  </thead>\n",
       "  <tbody>\n",
       "    <tr>\n",
       "      <th>0</th>\n",
       "      <td>dataset train</td>\n",
       "      <td>-</td>\n",
       "      <td>0.046058</td>\n",
       "      <td>455.996112</td>\n",
       "      <td>21.354065</td>\n",
       "      <td>16.998249</td>\n",
       "      <td>8.653186</td>\n",
       "    </tr>\n",
       "    <tr>\n",
       "      <th>1</th>\n",
       "      <td>dataset validation</td>\n",
       "      <td>-</td>\n",
       "      <td>0.039925</td>\n",
       "      <td>458.447042</td>\n",
       "      <td>21.411376</td>\n",
       "      <td>17.039754</td>\n",
       "      <td>8.682542</td>\n",
       "    </tr>\n",
       "    <tr>\n",
       "      <th>2</th>\n",
       "      <td>dataset test</td>\n",
       "      <td>-</td>\n",
       "      <td>0.051166</td>\n",
       "      <td>461.988435</td>\n",
       "      <td>21.493916</td>\n",
       "      <td>17.144197</td>\n",
       "      <td>8.531355</td>\n",
       "    </tr>\n",
       "  </tbody>\n",
       "</table>\n",
       "</div>"
      ],
      "text/plain": [
       "    Linear_Regression  -  R2_Score         MSE       RMSE        MAE      MAPE\n",
       "0       dataset train  -  0.046058  455.996112  21.354065  16.998249  8.653186\n",
       "1  dataset validation  -  0.039925  458.447042  21.411376  17.039754  8.682542\n",
       "2        dataset test  -  0.051166  461.988435  21.493916  17.144197  8.531355"
      ]
     },
     "execution_count": 21,
     "metadata": {},
     "output_type": "execute_result"
    }
   ],
   "source": [
    "df_linear_reg = tabela('Linear_Regression','-', '-', '-', '-', r2_train, r2_val, r2_test,\n",
    "                       mse_train, mse_val, mse_test, rmse_train, rmse_val, rmse_test,\n",
    "                       mae_train, mae_val, mae_test, mape_train, mape_val, mape_test)\n",
    "df_linear_reg"
   ]
  },
  {
   "cell_type": "code",
   "execution_count": null,
   "id": "d979b23c-6c47-4c95-9816-00fac65f089b",
   "metadata": {},
   "outputs": [],
   "source": []
  },
  {
   "cell_type": "code",
   "execution_count": null,
   "id": "ed2c44c0-59c7-4286-9056-598584c7c951",
   "metadata": {},
   "outputs": [],
   "source": []
  },
  {
   "cell_type": "code",
   "execution_count": null,
   "id": "ade5dfab-8401-40a5-b084-b9a99990fa4b",
   "metadata": {},
   "outputs": [],
   "source": []
  },
  {
   "cell_type": "code",
   "execution_count": null,
   "id": "fb01bc35-b585-4932-b1e4-c7ec62013c96",
   "metadata": {},
   "outputs": [],
   "source": []
  },
  {
   "cell_type": "code",
   "execution_count": null,
   "id": "e6d14e02-fd44-45b4-9c05-a27e4c4634c4",
   "metadata": {},
   "outputs": [],
   "source": []
  },
  {
   "cell_type": "code",
   "execution_count": null,
   "id": "f4efc084-ac5f-492b-bc5b-aaa52bb715a3",
   "metadata": {},
   "outputs": [],
   "source": []
  },
  {
   "cell_type": "code",
   "execution_count": null,
   "id": "dca829ca-e4d6-4f2d-ac2f-031f205cd6b1",
   "metadata": {},
   "outputs": [],
   "source": []
  },
  {
   "cell_type": "code",
   "execution_count": null,
   "id": "3a948a5d-33aa-4012-9f4a-db391678c86d",
   "metadata": {},
   "outputs": [],
   "source": []
  },
  {
   "cell_type": "code",
   "execution_count": null,
   "id": "14643deb-ba92-4ace-90f9-2a00d3201881",
   "metadata": {},
   "outputs": [],
   "source": []
  }
 ],
 "metadata": {
  "kernelspec": {
   "display_name": "Python 3 (ipykernel)",
   "language": "python",
   "name": "python3"
  },
  "language_info": {
   "codemirror_mode": {
    "name": "ipython",
    "version": 3
   },
   "file_extension": ".py",
   "mimetype": "text/x-python",
   "name": "python",
   "nbconvert_exporter": "python",
   "pygments_lexer": "ipython3",
   "version": "3.9.18"
  }
 },
 "nbformat": 4,
 "nbformat_minor": 5
}
