{
 "cells": [
  {
   "cell_type": "code",
   "execution_count": null,
   "id": "533ee159-69ce-4f03-b02f-9a1168d67b9b",
   "metadata": {},
   "outputs": [],
   "source": [
    "import pandas as pd\n",
    "import numpy as np\n",
    "from sklearn import neighbors as nb\n",
    "from sklearn import linear_model as lm\n",
    "from sklearn import metrics as mt\n",
    "from sklearn import tree as tr\n",
    "from sklearn import model_selection as ms\n",
    "from imblearn.under_sampling import NearMiss\n",
    "from imblearn.under_sampling import RandomUnderSampler\n",
    "from imblearn.over_sampling import SMOTE\n",
    "from imblearn.over_sampling import RandomOverSampler\n",
    "from sklearn import cluster as ct\n",
    "from sklearn import datasets as ds\n",
    "from sklearn import ensemble as en\n",
    "from sklearn import preprocessing as pp\n",
    "from matplotlib import pyplot as plt\n",
    "import cv2\n",
    "\n",
    "import warnings\n",
    "warnings.filterwarnings(\"ignore\")"
   ]
  }
 ],
 "metadata": {
  "kernelspec": {
   "display_name": "Python 3 (ipykernel)",
   "language": "python",
   "name": "python3"
  },
  "language_info": {
   "codemirror_mode": {
    "name": "ipython",
    "version": 3
   },
   "file_extension": ".py",
   "mimetype": "text/x-python",
   "name": "python",
   "nbconvert_exporter": "python",
   "pygments_lexer": "ipython3",
   "version": "3.9.18"
  }
 },
 "nbformat": 4,
 "nbformat_minor": 5
}
